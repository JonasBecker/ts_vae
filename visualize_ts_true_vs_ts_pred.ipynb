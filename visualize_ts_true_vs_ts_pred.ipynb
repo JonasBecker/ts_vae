{
 "cells": [
  {
   "cell_type": "code",
   "execution_count": 1,
   "metadata": {},
   "outputs": [],
   "source": [
    "from IPython.display import display\n",
    "import ipywidgets as widgets\n",
    "import numpy as np\n",
    "import pandas as pd\n",
    "import plotly.express as px\n",
    "import plotly.graph_objects as go\n",
    "import tensorflow as tf\n",
    "from sklearn.metrics import r2_score, mean_squared_error"
   ]
  },
  {
   "cell_type": "code",
   "execution_count": 2,
   "metadata": {},
   "outputs": [],
   "source": [
    "# load ds\n",
    "train_ts_ds = np.load('data/train_ts_ds.npy',)\n",
    "val_ts_ds = np.load('data/val_ts_ds.npy', )\n",
    "test_ts_ds = np.load('data/test_ts_ds.npy', )\n",
    "train_gaf_ds = np.load('data/train_gaf_ds.npy', )\n",
    "val_gaf_ds = np.load('data/val_gaf_ds.npy', )\n",
    "test_gaf_ds = np.load('data/test_gaf_ds.npy', )\n",
    "train_label = np.load('data/train_label.npy', )\n",
    "val_label = np.load('data/val_label.npy', )\n",
    "test_label = np.load('data/test_label.npy', )\n",
    "# load decoded ds\n",
    "beta = 1\n",
    "train_dec_gaf_ds = np.load(f'data/dec_imgs_train_beta_{beta}.npy', )\n",
    "val_dec_gaf_ds = np.load(f'data/dec_imgs_val_beta_{beta}.npy', )\n",
    "test_dec_gaf_ds = np.load(f'data/dec_imgs_test_beta_{beta}.npy', )\n"
   ]
  },
  {
   "cell_type": "code",
   "execution_count": 3,
   "metadata": {},
   "outputs": [],
   "source": [
    "## dec imgs to ts igasf does not work yet\n",
    "# class IGASF(tf.keras.layers.Layer):\n",
    "#     def __init__(self, gasf_post_scale = True, min_scale = 0, max_scale = 1):\n",
    "#         super(IGASF, self).__init__()\n",
    "#         self.gasf_post_scale = gasf_post_scale\n",
    "#         self.min_scale = min_scale\n",
    "#         self.max_scale = max_scale\n",
    "\n",
    "#     def call(self, inputs):\n",
    "#         diag = tf.linalg.diag_part(inputs)\n",
    "#         if self.gasf_post_scale:\n",
    "#             ts = tf.sqrt(diag) \n",
    "#         else:\n",
    "#             ts = tf.sqrt((diag + 1)/2) \n",
    "#         #ts = ts #* (self.max_scale - self.min_scale) + self.min_scale\n",
    "#         return ts\n",
    "\n",
    "# inputs = tf.keras.Input(shape=(28,28,1),batch_size=None,dtype=tf.float32)\n",
    "# outputs = IGASF()(inputs)\n",
    "# postprocessor_model = tf.keras.models.Model(inputs = inputs, outputs = outputs)\n",
    "# train_pred_ts = np.squeeze(postprocessor_model.predict(tf.data.Dataset.from_tensor_slices(train_dec_gaf_ds).batch(128)))\n",
    "# val_pred_ts = np.squeeze(postprocessor_model.predict(tf.data.Dataset.from_tensor_slices(val_dec_gaf_ds).batch(128)))\n",
    "# test_pred_ts = np.squeeze(postprocessor_model.predict(tf.data.Dataset.from_tensor_slices(test_dec_gaf_ds).batch(128)))\n",
    "\n",
    "# use numpy functions instead of igasf layer\n",
    "train_pred_ts = []\n",
    "for _, val in enumerate(np.squeeze(train_dec_gaf_ds)):\n",
    "    train_pred_ts.append(np.sqrt(np.diag(val)))\n",
    "train_pred_ts = np.array(train_pred_ts)    \n",
    "\n",
    "val_pred_ts = []\n",
    "for _, val in enumerate(np.squeeze(val_dec_gaf_ds)):\n",
    "    val_pred_ts.append(np.sqrt(np.diag(val)))\n",
    "val_pred_ts = np.array(val_pred_ts)  \n",
    "\n",
    "test_pred_ts = []\n",
    "for _, val in enumerate(np.squeeze(test_dec_gaf_ds)):\n",
    "    test_pred_ts.append(np.sqrt(np.diag(val)))\n",
    "test_pred_ts = np.array(test_pred_ts)  "
   ]
  },
  {
   "cell_type": "code",
   "execution_count": 4,
   "metadata": {},
   "outputs": [],
   "source": [
    "# calculate ts losses\n",
    "train_ts_loss = np.zeros((train_ts_ds.shape[0],2))\n",
    "val_ts_loss = np.zeros((val_ts_ds.shape[0],2))\n",
    "test_ts_loss = np.zeros((test_ts_ds.shape[0],2))\n",
    "for i, (true, pred) in enumerate(zip(train_ts_ds, train_pred_ts)):\n",
    "    train_ts_loss[i,0] = r2_score(true, pred)\n",
    "    train_ts_loss[i,1] = mean_squared_error(true, pred)\n",
    "for i, (true, pred) in enumerate(zip(val_ts_ds, val_pred_ts)):\n",
    "    val_ts_loss[i,0] = r2_score(true, pred)\n",
    "    val_ts_loss[i,1] = mean_squared_error(true, pred)\n",
    "for i, (true, pred) in enumerate(zip(test_ts_ds, test_pred_ts)):\n",
    "    test_ts_loss[i,0] = r2_score(true, pred)\n",
    "    test_ts_loss[i,1] = mean_squared_error(true, pred)"
   ]
  },
  {
   "cell_type": "code",
   "execution_count": 5,
   "metadata": {},
   "outputs": [],
   "source": [
    "# init figures\n",
    "ts_len = train_ts_ds.shape[1]\n",
    "line_fig = px.line(y=[None] * ts_len, range_y = [0,1])\n",
    "line_fig.add_scatter(x=np.arange(ts_len), y = [None] * ts_len, mode = 'lines')\n",
    "line_fig.update(layout_showlegend=False)\n",
    "line_fig.update_layout(title = 'True TS (Blue) Vs Predicted TS (Red)')\n",
    "ts_widget = go.FigureWidget(line_fig)\n",
    "gaf_widget = go.FigureWidget(px.imshow(np.zeros((ts_len,ts_len)), zmin = 0, zmax= 1, color_continuous_scale = 'gray'))"
   ]
  },
  {
   "cell_type": "code",
   "execution_count": 6,
   "metadata": {},
   "outputs": [],
   "source": [
    "# init dataframe with features and losses\n",
    "label_df = pd.DataFrame(columns = ['step_start', 'step_end', 'step_width', 'step_amp', 'mse', 'r2_score'])"
   ]
  },
  {
   "cell_type": "code",
   "execution_count": 7,
   "metadata": {},
   "outputs": [],
   "source": [
    "# dropdown menu for ds selection\n",
    "ds_split_dd = widgets.Dropdown(\n",
    "    options = [('Training', 0), ('Validation', 1), ('Test', 2)],\n",
    "    value = 0,\n",
    "    description='Split:'\n",
    ")"
   ]
  },
  {
   "cell_type": "code",
   "execution_count": 8,
   "metadata": {},
   "outputs": [],
   "source": [
    "# init df out for df visualization\n",
    "df_out = widgets.Output()\n",
    "with df_out:\n",
    "    display(label_df)"
   ]
  },
  {
   "cell_type": "code",
   "execution_count": 9,
   "metadata": {},
   "outputs": [],
   "source": [
    "# slider for ds indices\n",
    "data_slider = widgets.IntSlider(\n",
    "    value = 0,\n",
    "    min = 0,\n",
    "    max = train_label.shape[1] - 1,\n",
    "    step = 1,\n",
    "    description = 'Sample:'\n",
    ")"
   ]
  },
  {
   "cell_type": "code",
   "execution_count": 10,
   "metadata": {},
   "outputs": [],
   "source": [
    "# slider over ds indices. changes data within figures\n",
    "def data_slider_change(change):\n",
    "        with df_out:\n",
    "            display(label_df[data_slider.value:data_slider.value +1], clear=True)\n",
    "            \n",
    "        ts_widget.data[0].y = ts_data[data_slider.value, :]\n",
    "        ts_widget.data[1].y = pred_ts_data[data_slider.value, :]\n",
    "        gaf_widget.data[0].z = gaf_data[data_slider.value,:,:,0]"
   ]
  },
  {
   "cell_type": "code",
   "execution_count": 11,
   "metadata": {},
   "outputs": [],
   "source": [
    "data_slider.observe(data_slider_change)"
   ]
  },
  {
   "cell_type": "code",
   "execution_count": 12,
   "metadata": {},
   "outputs": [],
   "source": [
    "# drop down for data set selection\n",
    "def ds_split_dd_change(change):\n",
    "    global ts_data, gaf_data, label_data, label_df, df_out, pred_ts_data\n",
    "    if ds_split_dd.value == 0:\n",
    "        ts_data = train_ts_ds\n",
    "        pred_ts_data = train_pred_ts\n",
    "        gaf_data = train_dec_gaf_ds\n",
    "        label_data = np.concatenate((train_label.T, train_ts_loss),axis = -1)\n",
    "    if ds_split_dd.value == 1:\n",
    "        ts_data = val_ts_ds\n",
    "        pred_ts_data = val_pred_ts\n",
    "        gaf_data = val_dec_gaf_ds\n",
    "        label_data = np.concatenate((val_label.T, val_ts_loss),axis = -1)\n",
    "    if ds_split_dd.value == 2:\n",
    "        ts_data = test_ts_ds\n",
    "        pred_ts_data = test_pred_ts\n",
    "        gaf_data = test_dec_gaf_ds\n",
    "        label_data = np.concatenate((test_label.T, test_ts_loss),axis = -1)\n",
    "        \n",
    "    label_df = label_df[0:0]\n",
    "    label_df = label_df.append(pd.DataFrame(label_data, columns = label_df.columns))\n",
    "    data_slider.value = 0\n",
    "    data_slider.max = len(label_df) -1\n",
    "    with df_out:\n",
    "        display(label_df, clear=True)\n",
    "        "
   ]
  },
  {
   "cell_type": "code",
   "execution_count": 13,
   "metadata": {},
   "outputs": [
    {
     "name": "stderr",
     "output_type": "stream",
     "text": [
      "C:\\Users\\Jan\\AppData\\Local\\Temp\\ipykernel_15596\\1452023397.py:21: FutureWarning:\n",
      "\n",
      "The frame.append method is deprecated and will be removed from pandas in a future version. Use pandas.concat instead.\n",
      "\n"
     ]
    }
   ],
   "source": [
    "# init default data via drop down call\n",
    "ds_split_dd_change(None)"
   ]
  },
  {
   "cell_type": "code",
   "execution_count": 14,
   "metadata": {},
   "outputs": [],
   "source": [
    "# init figure data via data slider call\n",
    "data_slider_change(None)"
   ]
  },
  {
   "cell_type": "code",
   "execution_count": 15,
   "metadata": {},
   "outputs": [],
   "source": [
    "ds_split_dd.observe(ds_split_dd_change)"
   ]
  },
  {
   "cell_type": "code",
   "execution_count": 16,
   "metadata": {},
   "outputs": [],
   "source": [
    "fig_box = widgets.HBox()"
   ]
  },
  {
   "cell_type": "code",
   "execution_count": 17,
   "metadata": {},
   "outputs": [],
   "source": [
    "# radio buttons to choose between ts, gaf or ts and gaf figure presentation\n",
    "fig_box_childs_rb = widgets.RadioButtons(\n",
    "    options = [('TS', 0), ('GAF', 1), ('TS & GAF', 2)],\n",
    "    value = 0,\n",
    "    description='Figure:',\n",
    ")"
   ]
  },
  {
   "cell_type": "code",
   "execution_count": 18,
   "metadata": {},
   "outputs": [],
   "source": [
    "# set child of fig box with respect to chosen radiobutton\n",
    "def fig_box_childs_rb_change(change):\n",
    "    global fig_box\n",
    "    if fig_box_childs_rb.value == 0:\n",
    "        fig_box.children = [ts_widget]\n",
    "    if fig_box_childs_rb.value == 1:\n",
    "        fig_box.children = [gaf_widget]\n",
    "    if fig_box_childs_rb.value == 2:\n",
    "        fig_box.children = [ts_widget, gaf_widget]"
   ]
  },
  {
   "cell_type": "code",
   "execution_count": 19,
   "metadata": {},
   "outputs": [],
   "source": [
    "fig_box_childs_rb_change(None)"
   ]
  },
  {
   "cell_type": "code",
   "execution_count": 20,
   "metadata": {},
   "outputs": [],
   "source": [
    "fig_box_childs_rb.observe(fig_box_childs_rb_change)"
   ]
  },
  {
   "cell_type": "code",
   "execution_count": 21,
   "metadata": {},
   "outputs": [
    {
     "data": {
      "application/vnd.jupyter.widget-view+json": {
       "model_id": "7048b6d782124393a2e6ac3bdac18fe1",
       "version_major": 2,
       "version_minor": 0
      },
      "text/plain": [
       "VBox(children=(HBox(children=(VBox(children=(Dropdown(description='Split:', options=(('Training', 0), ('Valida…"
      ]
     },
     "metadata": {},
     "output_type": "display_data"
    }
   ],
   "source": [
    "widgets.VBox([widgets.HBox([widgets.VBox([ds_split_dd, data_slider]), fig_box_childs_rb]), widgets.HBox([fig_box, df_out])])"
   ]
  },
  {
   "cell_type": "code",
   "execution_count": 22,
   "metadata": {},
   "outputs": [],
   "source": [
    "# table fixen (und nur eine zeile bei ausgewähltem sample anzeigen)!!!!!!! sehr wichtig vor korrelation bestimmen\n",
    "# in eigene notebooks:\n",
    "# visualization of predicting time series  (test sample vis -> prediction decoder vis) (ipywidgets) + label daneben anzeigen (eine zeile aus der tabelle)\n",
    "# visualisierung latent space (siehe colab) und andere vis-colab notebooks(ipywidgets)\n",
    "# korrelation visualisieren\n",
    "# r2 score auf zeitreihe \n",
    "# notebooks dokumentation (colab)\n",
    "# danach:\n",
    "# cyclic beta -> statt callback einfach modell öfter trainieren mit unterschiedlichen beta\n",
    "#  ggf reconstruction error erstmal vernachlässigen: hier die frage -> kann das modell gut clustern (gutes disentanglement)"
   ]
  }
 ],
 "metadata": {
  "kernelspec": {
   "display_name": "Python 3.9.10 64-bit",
   "language": "python",
   "name": "python3"
  },
  "language_info": {
   "codemirror_mode": {
    "name": "ipython",
    "version": 3
   },
   "file_extension": ".py",
   "mimetype": "text/x-python",
   "name": "python",
   "nbconvert_exporter": "python",
   "pygments_lexer": "ipython3",
   "version": "3.9.10"
  },
  "orig_nbformat": 4,
  "vscode": {
   "interpreter": {
    "hash": "3bf64417fad4ce5f95a5d445fa99ed58dabe0bfbbb23771aa975d1673e089270"
   }
  }
 },
 "nbformat": 4,
 "nbformat_minor": 2
}
