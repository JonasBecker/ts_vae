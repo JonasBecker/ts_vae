{
 "cells": [
  {
   "cell_type": "markdown",
   "metadata": {},
   "source": [
    "# visualize"
   ]
  },
  {
   "cell_type": "code",
   "execution_count": 1,
   "metadata": {},
   "outputs": [],
   "source": [
    "#from IPython.display import display\n",
    "import ipywidgets as widgets\n",
    "import numpy as np\n",
    "import pandas as pd\n",
    "import plotly.express as px\n",
    "import plotly.graph_objects as go\n",
    "#from itables import init_notebook_mode\n",
    "#init_notebook_mode(all_interactive=True)"
   ]
  },
  {
   "cell_type": "markdown",
   "metadata": {},
   "source": [
    "## Load data"
   ]
  },
  {
   "cell_type": "code",
   "execution_count": 1,
   "metadata": {},
   "outputs": [
    {
     "name": "stdout",
     "output_type": "stream",
     "text": [
      "(60000, 28)\n",
      "(60000, 28, 28)\n"
     ]
    },
    {
     "name": "stderr",
     "output_type": "stream",
     "text": [
      "2022-07-08 15:39:17.714566: W tensorflow/stream_executor/platform/default/dso_loader.cc:64] Could not load dynamic library 'cudart64_110.dll'; dlerror: cudart64_110.dll not found\n",
      "2022-07-08 15:39:17.714864: I tensorflow/stream_executor/cuda/cudart_stub.cc:29] Ignore above cudart dlerror if you do not have a GPU set up on your machine.\n",
      "2022-07-08 15:39:21.453055: W tensorflow/stream_executor/platform/default/dso_loader.cc:64] Could not load dynamic library 'nvcuda.dll'; dlerror: nvcuda.dll not found\n",
      "2022-07-08 15:39:21.453252: W tensorflow/stream_executor/cuda/cuda_driver.cc:269] failed call to cuInit: UNKNOWN ERROR (303)\n",
      "2022-07-08 15:39:21.459001: I tensorflow/stream_executor/cuda/cuda_diagnostics.cc:169] retrieving CUDA diagnostic information for host: 20-0011\n",
      "2022-07-08 15:39:21.459268: I tensorflow/stream_executor/cuda/cuda_diagnostics.cc:176] hostname: 20-0011\n",
      "2022-07-08 15:39:21.459699: I tensorflow/core/platform/cpu_feature_guard.cc:142] This TensorFlow binary is optimized with oneAPI Deep Neural Network Library (oneDNN) to use the following CPU instructions in performance-critical operations:  AVX AVX2\n",
      "To enable them in other operations, rebuild TensorFlow with the appropriate compiler flags.\n",
      "2022-07-08 15:39:22.021109: I tensorflow/compiler/mlir/mlir_graph_optimization_pass.cc:185] None of the MLIR Optimization Passes are enabled (registered 2)\n"
     ]
    }
   ],
   "source": [
    "!python create.py --distribution_type gaussian"
   ]
  },
  {
   "cell_type": "code",
   "execution_count": 2,
   "metadata": {},
   "outputs": [],
   "source": [
    "train_ts_ds = np.load('data/train/time_series.npy')\n",
    "val_ts_ds = np.load('data/valid/time_series.npy')\n",
    "test_ts_ds = np.load('data/test/time_series.npy')\n",
    "\n",
    "train_gaf_ds = np.load('data/train/gafs.npy')\n",
    "val_gaf_ds = np.load('data/valid/gafs.npy')\n",
    "test_gaf_ds = np.load('data/test/gafs.npy')\n",
    "\n",
    "train_label = np.load('data/train/labels.npy')\n",
    "val_label = np.load('data/valid/labels.npy')\n",
    "test_label = np.load('data/test/labels.npy')"
   ]
  },
  {
   "cell_type": "markdown",
   "metadata": {},
   "source": [
    "## Aim for the next implementation"
   ]
  },
  {
   "cell_type": "code",
   "execution_count": 3,
   "metadata": {},
   "outputs": [],
   "source": [
    "#TODO: Als einfaches widget umsetzen\n",
    "#TODO: Berechnung des GAF on the run\n",
    "class DataVizualisation(widgets.HBox):\n",
    "\n",
    "    def __init__(self,arr):\n",
    "        \"\"\"\n",
    "        arr: np.array (Samples,time,signals)\n",
    "        \"\"\"\n",
    "        if not len(arr.shape)==3:\n",
    "            raise ValueError(\"Numpy array has to have exactly 3 dimensions\")\n",
    "\n",
    "        # 1) Init class + instances\n",
    "        super().__init__()\n",
    "        self.arr = arr\n",
    "\n",
    "        # 2) Define components\n",
    "\n",
    "        self.fig_ts = go.FigureWidget(layout=go.Layout(margin=dict(l=5,r=5,t=5,b=5),width=800))\n",
    "        self.fig_gaf = go.FigureWidget(layout=go.Layout(margin=dict(l=5,r=5,t=5,b=5),width=800))\n",
    "\n",
    "        self.children =[self.fig_ts,self.fig_gaf]\n"
   ]
  },
  {
   "cell_type": "code",
   "execution_count": 4,
   "metadata": {},
   "outputs": [],
   "source": [
    "#DataVizualisation(np.expand_dims(train_ts_ds,axis=2))"
   ]
  },
  {
   "cell_type": "markdown",
   "metadata": {},
   "source": [
    "## Implementation"
   ]
  },
  {
   "cell_type": "code",
   "execution_count": 5,
   "metadata": {},
   "outputs": [],
   "source": [
    "# init figure widgets for ts and gaf\n",
    "ts_len = test_ts_ds.shape[1]\n",
    "ts_widget = go.FigureWidget(px.line(y=[None] * ts_len, range_y = [0,1]))\n",
    "gaf_widget = go.FigureWidget(px.imshow(np.zeros((ts_len,ts_len)), zmin = 0, zmax= 1, color_continuous_scale = 'gray'))"
   ]
  },
  {
   "cell_type": "code",
   "execution_count": 6,
   "metadata": {},
   "outputs": [],
   "source": [
    "# init feature label dataframe\n",
    "label_df = pd.DataFrame(columns = ['step_start', 'step_end', 'step_width', 'step_amp'])"
   ]
  },
  {
   "cell_type": "code",
   "execution_count": 7,
   "metadata": {},
   "outputs": [],
   "source": [
    "# dropdown menu for ds selection\n",
    "ds_split_dd = widgets.Dropdown(\n",
    "    options = [('Training', 0), ('Validation', 1), ('Test', 2)],\n",
    "    value = 0,\n",
    "    description='Split:'\n",
    ")"
   ]
  },
  {
   "cell_type": "code",
   "execution_count": 8,
   "metadata": {},
   "outputs": [],
   "source": [
    "# init df out for df visualization\n",
    "df_out = widgets.Output()\n",
    "with df_out:\n",
    "    display(label_df)"
   ]
  },
  {
   "cell_type": "code",
   "execution_count": 9,
   "metadata": {},
   "outputs": [],
   "source": [
    "# slider for ds indices\n",
    "data_slider = widgets.IntSlider(\n",
    "    value = 0,\n",
    "    min = 0,\n",
    "    max = train_label.shape[0] - 1,\n",
    "    step = 1,\n",
    "    description = 'Sample:',\n",
    "    continous_update=False\n",
    ")"
   ]
  },
  {
   "cell_type": "code",
   "execution_count": 10,
   "metadata": {},
   "outputs": [],
   "source": [
    "# changes fig and df data with respect to slider val\n",
    "def data_slider_change(change):\n",
    "        with df_out:\n",
    "            display(pd.DataFrame(label_df.loc[data_slider.value]), clear=True)\n",
    "            \n",
    "        ts_widget.data[0].y = ts_data[data_slider.value, :]\n",
    "        gaf_widget.data[0].z = gaf_data[data_slider.value,:,:]"
   ]
  },
  {
   "cell_type": "code",
   "execution_count": 11,
   "metadata": {},
   "outputs": [],
   "source": [
    "data_slider.observe(data_slider_change)"
   ]
  },
  {
   "cell_type": "code",
   "execution_count": 12,
   "metadata": {},
   "outputs": [],
   "source": [
    "# drop down for data set selection\n",
    "def ds_split_dd_change(change):\n",
    "    global ts_data, gaf_data, label_data, label_df, df_out\n",
    "    if ds_split_dd.value == 0:\n",
    "        ts_data = train_ts_ds\n",
    "        gaf_data = train_gaf_ds\n",
    "        label_data = train_label\n",
    "    if ds_split_dd.value == 1:\n",
    "        ts_data = val_ts_ds\n",
    "        gaf_data = val_gaf_ds\n",
    "        label_data = val_label\n",
    "    if ds_split_dd.value == 2:\n",
    "        ts_data = test_ts_ds\n",
    "        gaf_data = test_gaf_ds\n",
    "        label_data = test_label\n",
    "        \n",
    "    label_df = label_df[0:0]\n",
    "    label_df = label_df.append(pd.DataFrame(label_data, columns = label_df.columns))\n",
    "    data_slider.value = 0\n",
    "    data_slider.max = len(label_df) -1\n",
    "    with df_out:\n",
    "        display(label_df, clear=True)\n",
    "        "
   ]
  },
  {
   "cell_type": "code",
   "execution_count": 13,
   "metadata": {},
   "outputs": [],
   "source": [
    "ds_split_dd_change(None)"
   ]
  },
  {
   "cell_type": "code",
   "execution_count": 14,
   "metadata": {},
   "outputs": [],
   "source": [
    "data_slider_change(None)"
   ]
  },
  {
   "cell_type": "code",
   "execution_count": 15,
   "metadata": {},
   "outputs": [],
   "source": [
    "ds_split_dd.observe(ds_split_dd_change)"
   ]
  },
  {
   "cell_type": "code",
   "execution_count": 16,
   "metadata": {},
   "outputs": [],
   "source": [
    "fig_box = widgets.HBox()"
   ]
  },
  {
   "cell_type": "code",
   "execution_count": 17,
   "metadata": {},
   "outputs": [],
   "source": [
    "# radio buttons to choose between ts, gaf or ts and gaf figure presentation\n",
    "fig_box_childs_rb = widgets.RadioButtons(\n",
    "    options = [('TS', 0), ('GAF', 1), ('TS & GAF', 2)],\n",
    "    value = 0,\n",
    "    description='Figure:',\n",
    ")"
   ]
  },
  {
   "cell_type": "code",
   "execution_count": 18,
   "metadata": {},
   "outputs": [],
   "source": [
    "# set child of fig box with respect to chosen radiobutton\n",
    "def fig_box_childs_rb_change(change):\n",
    "    global fig_box\n",
    "    if fig_box_childs_rb.value == 0:\n",
    "        fig_box.children = [ts_widget]\n",
    "    if fig_box_childs_rb.value == 1:\n",
    "        fig_box.children = [gaf_widget]\n",
    "    if fig_box_childs_rb.value == 2:\n",
    "        fig_box.children = [ts_widget, gaf_widget]"
   ]
  },
  {
   "cell_type": "code",
   "execution_count": 19,
   "metadata": {},
   "outputs": [],
   "source": [
    "fig_box_childs_rb_change(None)"
   ]
  },
  {
   "cell_type": "code",
   "execution_count": 20,
   "metadata": {},
   "outputs": [],
   "source": [
    "fig_box_childs_rb.observe(fig_box_childs_rb_change)"
   ]
  },
  {
   "cell_type": "code",
   "execution_count": 21,
   "metadata": {},
   "outputs": [],
   "source": [
    "a = [1,2,3,4,5,6]"
   ]
  },
  {
   "cell_type": "code",
   "execution_count": 22,
   "metadata": {},
   "outputs": [
    {
     "data": {
      "text/plain": [
       "(9600, 28, 28)"
      ]
     },
     "execution_count": 22,
     "metadata": {},
     "output_type": "execute_result"
    }
   ],
   "source": [
    "val_gaf_ds.shape"
   ]
  },
  {
   "cell_type": "code",
   "execution_count": 23,
   "metadata": {},
   "outputs": [
    {
     "data": {
      "application/vnd.jupyter.widget-view+json": {
       "model_id": "dedf7bf38bfe4414b03355d70071358d",
       "version_major": 2,
       "version_minor": 0
      },
      "text/plain": [
       "VBox(children=(HBox(children=(VBox(children=(Dropdown(description='Split:', options=(('Training', 0), ('Valida…"
      ]
     },
     "metadata": {},
     "output_type": "display_data"
    }
   ],
   "source": [
    "widgets.VBox([widgets.HBox([widgets.VBox([ds_split_dd, data_slider]), fig_box_childs_rb]), widgets.HBox([fig_box, df_out])])"
   ]
  },
  {
   "cell_type": "code",
   "execution_count": 24,
   "metadata": {},
   "outputs": [],
   "source": [
    "# table fixen (und nur eine zeile bei ausgewähltem sample anzeigen)!!!!!!! sehr wichtig vor korrelation bestimmen\n",
    "# in eigene notebooks:\n",
    "# visualization of predicting time series  (test sample vis -> prediction decoder vis) (ipywidgets) + label daneben anzeigen (eine zeile aus der tabelle)\n",
    "# visualisierung latent space (siehe colab) und andere vis-colab notebooks(ipywidgets)\n",
    "# korrelation visualisieren\n",
    "# r2 score auf zeitreihe (und bild)\n",
    "# notebooks dokumentation (colab)\n",
    "# -> alles bis montag pushen\n",
    "# danach:\n",
    "# cyclic beta -> statt callback einfach modell öfter trainieren mit unterschiedlichen beta\n",
    "#  ggf reconstruction error erstmal vernachlässigen: hier die frage -> kann das modell gut clustern (gutes disentanglement)"
   ]
  }
 ],
 "metadata": {
  "kernelspec": {
   "display_name": "Python 3.9.7 ('voe_vollmer')",
   "language": "python",
   "name": "python3"
  },
  "language_info": {
   "codemirror_mode": {
    "name": "ipython",
    "version": 3
   },
   "file_extension": ".py",
   "mimetype": "text/x-python",
   "name": "python",
   "nbconvert_exporter": "python",
   "pygments_lexer": "ipython3",
   "version": "3.9.7"
  },
  "orig_nbformat": 4,
  "vscode": {
   "interpreter": {
    "hash": "37bcd4ce5c5dbba602ac8500e789fb937ba07299e459f294a223c52836d8c97d"
   }
  }
 },
 "nbformat": 4,
 "nbformat_minor": 2
}
